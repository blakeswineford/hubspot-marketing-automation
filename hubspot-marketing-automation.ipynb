{
 "cells": [
  {
   "cell_type": "code",
   "execution_count": null,
   "metadata": {},
   "outputs": [],
   "source": [
    "import csv\n",
    "import requests\n",
    "\n",
    "# Load the CSV file\n",
    "with open('websites.csv', 'r') as csvfile:\n",
    "    reader = csv.reader(csvfile)\n",
    "    websites = []\n",
    "    for row in reader:\n",
    "        if len(row) > 0:\n",
    "            websites.append(row[0])\n",
    "\n",
    "# Iterate through the list of websites\n",
    "for website in websites:\n",
    "    try:\n",
    "        # Send HTTP request\n",
    "        response = requests.get(website)\n",
    "\n",
    "        # Check if HubSpot tracking codes exist in HTML\n",
    "        if 'hs-analytics.net' in response.text:\n",
    "            print(f\"{website} is using HubSpot for marketing automation.\")\n",
    "        else:\n",
    "            print(f\"{website} no\")\n",
    "    except requests.exceptions.RequestException as e:\n",
    "        # Handle any gate errors\n",
    "        print(f\"Skipping {website} due to gate error: {e}\")\n",
    "        continue"
   ]
  }
 ],
 "metadata": {
  "language_info": {
   "name": "python"
  },
  "orig_nbformat": 4
 },
 "nbformat": 4,
 "nbformat_minor": 2
}
